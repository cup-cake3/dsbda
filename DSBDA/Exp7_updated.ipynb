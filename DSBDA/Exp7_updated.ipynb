{
 "cells": [
  {
   "cell_type": "code",
   "execution_count": 1,
   "id": "c7d35e76",
   "metadata": {},
   "outputs": [],
   "source": [
    "import pandas as pd\n",
    "import numpy as np"
   ]
  },
  {
   "cell_type": "code",
   "execution_count": 2,
   "id": "3d74ff73",
   "metadata": {},
   "outputs": [],
   "source": [
    "with open(\"sample.txt\",'r') as file:\n",
    "    sample_document=file.read()"
   ]
  },
  {
   "cell_type": "code",
   "execution_count": 3,
   "id": "deab2594",
   "metadata": {},
   "outputs": [
    {
     "data": {
      "text/plain": [
       "\"Tokenization is the process of splitting a text document into individual words or tokens. \\\\\\\\nIt is an important step in natural language processing. \\\\\\\\nPOS tagging assigns grammatical information to each word in a sentence. \\\\\\\\nStop words are commonly used words that are often removed from text data because they don't carry significant meaning.\\\\\\\\nStemming and lemmatization are techniques used to reduce words to their base or root form.\""
      ]
     },
     "execution_count": 3,
     "metadata": {},
     "output_type": "execute_result"
    }
   ],
   "source": [
    "sample_document"
   ]
  },
  {
   "cell_type": "code",
   "execution_count": 6,
   "id": "0ee00331",
   "metadata": {},
   "outputs": [],
   "source": [
    "import nltk\n",
    "from nltk.tokenize import word_tokenize"
   ]
  },
  {
   "cell_type": "code",
   "execution_count": 7,
   "id": "4f25c791",
   "metadata": {},
   "outputs": [],
   "source": [
    "tokens=word_tokenize(sample_document)"
   ]
  },
  {
   "cell_type": "code",
   "execution_count": 9,
   "id": "a95889ec",
   "metadata": {},
   "outputs": [
    {
     "name": "stderr",
     "output_type": "stream",
     "text": [
      "[nltk_data] Downloading package punkt to\n",
      "[nltk_data]     C:\\Users\\ishan\\AppData\\Roaming\\nltk_data...\n",
      "[nltk_data]   Package punkt is already up-to-date!\n"
     ]
    },
    {
     "data": {
      "text/plain": [
       "True"
      ]
     },
     "execution_count": 9,
     "metadata": {},
     "output_type": "execute_result"
    }
   ],
   "source": [
    "nltk.download('punkt')"
   ]
  },
  {
   "cell_type": "code",
   "execution_count": 11,
   "id": "e90665ae",
   "metadata": {},
   "outputs": [
    {
     "name": "stdout",
     "output_type": "stream",
     "text": [
      "['Tokenization', 'is', 'the', 'process', 'of', 'splitting', 'a', 'text', 'document', 'into', 'individual', 'words', 'or', 'tokens', '.', '\\\\\\\\nIt', 'is', 'an', 'important', 'step', 'in', 'natural', 'language', 'processing', '.', '\\\\\\\\nPOS', 'tagging', 'assigns', 'grammatical', 'information', 'to', 'each', 'word', 'in', 'a', 'sentence', '.', '\\\\\\\\nStop', 'words', 'are', 'commonly', 'used', 'words', 'that', 'are', 'often', 'removed', 'from', 'text', 'data', 'because', 'they', 'do', \"n't\", 'carry', 'significant', 'meaning.\\\\\\\\nStemming', 'and', 'lemmatization', 'are', 'techniques', 'used', 'to', 'reduce', 'words', 'to', 'their', 'base', 'or', 'root', 'form', '.']\n"
     ]
    }
   ],
   "source": [
    "print(tokens)"
   ]
  },
  {
   "cell_type": "code",
   "execution_count": 13,
   "id": "7a8ad640",
   "metadata": {},
   "outputs": [
    {
     "name": "stderr",
     "output_type": "stream",
     "text": [
      "[nltk_data] Downloading package averaged_perceptron_tagger to\n",
      "[nltk_data]     C:\\Users\\ishan\\AppData\\Roaming\\nltk_data...\n",
      "[nltk_data]   Package averaged_perceptron_tagger is already up-to-\n",
      "[nltk_data]       date!\n"
     ]
    },
    {
     "data": {
      "text/plain": [
       "True"
      ]
     },
     "execution_count": 13,
     "metadata": {},
     "output_type": "execute_result"
    }
   ],
   "source": [
    "nltk.download('averaged_perceptron_tagger')"
   ]
  },
  {
   "cell_type": "code",
   "execution_count": 15,
   "id": "b889f007",
   "metadata": {},
   "outputs": [],
   "source": [
    "pos=nltk.pos_tag(tokens)"
   ]
  },
  {
   "cell_type": "code",
   "execution_count": 16,
   "id": "39b4842e",
   "metadata": {},
   "outputs": [
    {
     "data": {
      "text/plain": [
       "[('Tokenization', 'NN'),\n",
       " ('is', 'VBZ'),\n",
       " ('the', 'DT'),\n",
       " ('process', 'NN'),\n",
       " ('of', 'IN'),\n",
       " ('splitting', 'VBG'),\n",
       " ('a', 'DT'),\n",
       " ('text', 'NN'),\n",
       " ('document', 'NN'),\n",
       " ('into', 'IN'),\n",
       " ('individual', 'JJ'),\n",
       " ('words', 'NNS'),\n",
       " ('or', 'CC'),\n",
       " ('tokens', 'NNS'),\n",
       " ('.', '.'),\n",
       " ('\\\\\\\\nIt', 'NN'),\n",
       " ('is', 'VBZ'),\n",
       " ('an', 'DT'),\n",
       " ('important', 'JJ'),\n",
       " ('step', 'NN'),\n",
       " ('in', 'IN'),\n",
       " ('natural', 'JJ'),\n",
       " ('language', 'NN'),\n",
       " ('processing', 'NN'),\n",
       " ('.', '.'),\n",
       " ('\\\\\\\\nPOS', 'CC'),\n",
       " ('tagging', 'VBG'),\n",
       " ('assigns', 'JJ'),\n",
       " ('grammatical', 'JJ'),\n",
       " ('information', 'NN'),\n",
       " ('to', 'TO'),\n",
       " ('each', 'DT'),\n",
       " ('word', 'NN'),\n",
       " ('in', 'IN'),\n",
       " ('a', 'DT'),\n",
       " ('sentence', 'NN'),\n",
       " ('.', '.'),\n",
       " ('\\\\\\\\nStop', 'VB'),\n",
       " ('words', 'NNS'),\n",
       " ('are', 'VBP'),\n",
       " ('commonly', 'RB'),\n",
       " ('used', 'VBN'),\n",
       " ('words', 'NNS'),\n",
       " ('that', 'WDT'),\n",
       " ('are', 'VBP'),\n",
       " ('often', 'RB'),\n",
       " ('removed', 'VBN'),\n",
       " ('from', 'IN'),\n",
       " ('text', 'NN'),\n",
       " ('data', 'NNS'),\n",
       " ('because', 'IN'),\n",
       " ('they', 'PRP'),\n",
       " ('do', 'VBP'),\n",
       " (\"n't\", 'RB'),\n",
       " ('carry', 'VB'),\n",
       " ('significant', 'JJ'),\n",
       " ('meaning.\\\\\\\\nStemming', 'NN'),\n",
       " ('and', 'CC'),\n",
       " ('lemmatization', 'NN'),\n",
       " ('are', 'VBP'),\n",
       " ('techniques', 'NNS'),\n",
       " ('used', 'VBN'),\n",
       " ('to', 'TO'),\n",
       " ('reduce', 'VB'),\n",
       " ('words', 'NNS'),\n",
       " ('to', 'TO'),\n",
       " ('their', 'PRP$'),\n",
       " ('base', 'NN'),\n",
       " ('or', 'CC'),\n",
       " ('root', 'NN'),\n",
       " ('form', 'NN'),\n",
       " ('.', '.')]"
      ]
     },
     "execution_count": 16,
     "metadata": {},
     "output_type": "execute_result"
    }
   ],
   "source": [
    "pos"
   ]
  },
  {
   "cell_type": "code",
   "execution_count": 17,
   "id": "5a3b89b8",
   "metadata": {},
   "outputs": [
    {
     "name": "stderr",
     "output_type": "stream",
     "text": [
      "[nltk_data] Downloading package stopwords to\n",
      "[nltk_data]     C:\\Users\\ishan\\AppData\\Roaming\\nltk_data...\n",
      "[nltk_data]   Package stopwords is already up-to-date!\n"
     ]
    },
    {
     "data": {
      "text/plain": [
       "True"
      ]
     },
     "execution_count": 17,
     "metadata": {},
     "output_type": "execute_result"
    }
   ],
   "source": [
    "nltk.download('stopwords')"
   ]
  },
  {
   "cell_type": "code",
   "execution_count": 18,
   "id": "9efa7f04",
   "metadata": {},
   "outputs": [],
   "source": [
    "from nltk.corpus import stopwords"
   ]
  },
  {
   "cell_type": "code",
   "execution_count": 19,
   "id": "5c7d937f",
   "metadata": {},
   "outputs": [
    {
     "data": {
      "text/plain": [
       "['i',\n",
       " 'me',\n",
       " 'my',\n",
       " 'myself',\n",
       " 'we',\n",
       " 'our',\n",
       " 'ours',\n",
       " 'ourselves',\n",
       " 'you',\n",
       " \"you're\",\n",
       " \"you've\",\n",
       " \"you'll\",\n",
       " \"you'd\",\n",
       " 'your',\n",
       " 'yours',\n",
       " 'yourself',\n",
       " 'yourselves',\n",
       " 'he',\n",
       " 'him',\n",
       " 'his',\n",
       " 'himself',\n",
       " 'she',\n",
       " \"she's\",\n",
       " 'her',\n",
       " 'hers',\n",
       " 'herself',\n",
       " 'it',\n",
       " \"it's\",\n",
       " 'its',\n",
       " 'itself',\n",
       " 'they',\n",
       " 'them',\n",
       " 'their',\n",
       " 'theirs',\n",
       " 'themselves',\n",
       " 'what',\n",
       " 'which',\n",
       " 'who',\n",
       " 'whom',\n",
       " 'this',\n",
       " 'that',\n",
       " \"that'll\",\n",
       " 'these',\n",
       " 'those',\n",
       " 'am',\n",
       " 'is',\n",
       " 'are',\n",
       " 'was',\n",
       " 'were',\n",
       " 'be',\n",
       " 'been',\n",
       " 'being',\n",
       " 'have',\n",
       " 'has',\n",
       " 'had',\n",
       " 'having',\n",
       " 'do',\n",
       " 'does',\n",
       " 'did',\n",
       " 'doing',\n",
       " 'a',\n",
       " 'an',\n",
       " 'the',\n",
       " 'and',\n",
       " 'but',\n",
       " 'if',\n",
       " 'or',\n",
       " 'because',\n",
       " 'as',\n",
       " 'until',\n",
       " 'while',\n",
       " 'of',\n",
       " 'at',\n",
       " 'by',\n",
       " 'for',\n",
       " 'with',\n",
       " 'about',\n",
       " 'against',\n",
       " 'between',\n",
       " 'into',\n",
       " 'through',\n",
       " 'during',\n",
       " 'before',\n",
       " 'after',\n",
       " 'above',\n",
       " 'below',\n",
       " 'to',\n",
       " 'from',\n",
       " 'up',\n",
       " 'down',\n",
       " 'in',\n",
       " 'out',\n",
       " 'on',\n",
       " 'off',\n",
       " 'over',\n",
       " 'under',\n",
       " 'again',\n",
       " 'further',\n",
       " 'then',\n",
       " 'once',\n",
       " 'here',\n",
       " 'there',\n",
       " 'when',\n",
       " 'where',\n",
       " 'why',\n",
       " 'how',\n",
       " 'all',\n",
       " 'any',\n",
       " 'both',\n",
       " 'each',\n",
       " 'few',\n",
       " 'more',\n",
       " 'most',\n",
       " 'other',\n",
       " 'some',\n",
       " 'such',\n",
       " 'no',\n",
       " 'nor',\n",
       " 'not',\n",
       " 'only',\n",
       " 'own',\n",
       " 'same',\n",
       " 'so',\n",
       " 'than',\n",
       " 'too',\n",
       " 'very',\n",
       " 's',\n",
       " 't',\n",
       " 'can',\n",
       " 'will',\n",
       " 'just',\n",
       " 'don',\n",
       " \"don't\",\n",
       " 'should',\n",
       " \"should've\",\n",
       " 'now',\n",
       " 'd',\n",
       " 'll',\n",
       " 'm',\n",
       " 'o',\n",
       " 're',\n",
       " 've',\n",
       " 'y',\n",
       " 'ain',\n",
       " 'aren',\n",
       " \"aren't\",\n",
       " 'couldn',\n",
       " \"couldn't\",\n",
       " 'didn',\n",
       " \"didn't\",\n",
       " 'doesn',\n",
       " \"doesn't\",\n",
       " 'hadn',\n",
       " \"hadn't\",\n",
       " 'hasn',\n",
       " \"hasn't\",\n",
       " 'haven',\n",
       " \"haven't\",\n",
       " 'isn',\n",
       " \"isn't\",\n",
       " 'ma',\n",
       " 'mightn',\n",
       " \"mightn't\",\n",
       " 'mustn',\n",
       " \"mustn't\",\n",
       " 'needn',\n",
       " \"needn't\",\n",
       " 'shan',\n",
       " \"shan't\",\n",
       " 'shouldn',\n",
       " \"shouldn't\",\n",
       " 'wasn',\n",
       " \"wasn't\",\n",
       " 'weren',\n",
       " \"weren't\",\n",
       " 'won',\n",
       " \"won't\",\n",
       " 'wouldn',\n",
       " \"wouldn't\"]"
      ]
     },
     "execution_count": 19,
     "metadata": {},
     "output_type": "execute_result"
    }
   ],
   "source": [
    "stopwords.words('english')"
   ]
  },
  {
   "cell_type": "code",
   "execution_count": 20,
   "id": "5b6c87d2",
   "metadata": {},
   "outputs": [],
   "source": [
    "stop_words=set(stopwords.words('english'))"
   ]
  },
  {
   "cell_type": "code",
   "execution_count": 21,
   "id": "bcdb17ad",
   "metadata": {},
   "outputs": [],
   "source": [
    "filtered_tokens=[]\n",
    "for token in tokens:\n",
    "    if token.lower() not in stop_words:\n",
    "        filtered_tokens.append(token)"
   ]
  },
  {
   "cell_type": "code",
   "execution_count": 22,
   "id": "4914b0b9",
   "metadata": {},
   "outputs": [
    {
     "data": {
      "text/plain": [
       "['Tokenization',\n",
       " 'process',\n",
       " 'splitting',\n",
       " 'text',\n",
       " 'document',\n",
       " 'individual',\n",
       " 'words',\n",
       " 'tokens',\n",
       " '.',\n",
       " '\\\\\\\\nIt',\n",
       " 'important',\n",
       " 'step',\n",
       " 'natural',\n",
       " 'language',\n",
       " 'processing',\n",
       " '.',\n",
       " '\\\\\\\\nPOS',\n",
       " 'tagging',\n",
       " 'assigns',\n",
       " 'grammatical',\n",
       " 'information',\n",
       " 'word',\n",
       " 'sentence',\n",
       " '.',\n",
       " '\\\\\\\\nStop',\n",
       " 'words',\n",
       " 'commonly',\n",
       " 'used',\n",
       " 'words',\n",
       " 'often',\n",
       " 'removed',\n",
       " 'text',\n",
       " 'data',\n",
       " \"n't\",\n",
       " 'carry',\n",
       " 'significant',\n",
       " 'meaning.\\\\\\\\nStemming',\n",
       " 'lemmatization',\n",
       " 'techniques',\n",
       " 'used',\n",
       " 'reduce',\n",
       " 'words',\n",
       " 'base',\n",
       " 'root',\n",
       " 'form',\n",
       " '.']"
      ]
     },
     "execution_count": 22,
     "metadata": {},
     "output_type": "execute_result"
    }
   ],
   "source": [
    "filtered_tokens"
   ]
  },
  {
   "cell_type": "code",
   "execution_count": 23,
   "id": "0f4ee97d",
   "metadata": {},
   "outputs": [
    {
     "name": "stderr",
     "output_type": "stream",
     "text": [
      "[nltk_data] Downloading package wordnet to\n",
      "[nltk_data]     C:\\Users\\ishan\\AppData\\Roaming\\nltk_data...\n",
      "[nltk_data]   Package wordnet is already up-to-date!\n"
     ]
    },
    {
     "data": {
      "text/plain": [
       "True"
      ]
     },
     "execution_count": 23,
     "metadata": {},
     "output_type": "execute_result"
    }
   ],
   "source": [
    "nltk.download('wordnet')"
   ]
  },
  {
   "cell_type": "code",
   "execution_count": 24,
   "id": "ed745ee6",
   "metadata": {},
   "outputs": [],
   "source": [
    "from nltk.stem import PorterStemmer, WordNetLemmatizer"
   ]
  },
  {
   "cell_type": "code",
   "execution_count": 26,
   "id": "f05bbf24",
   "metadata": {},
   "outputs": [],
   "source": [
    "stemmer=PorterStemmer()\n",
    "stemmed_tokens=[]\n",
    "for token in filtered_tokens:\n",
    "    stemmed_tokens.append(stemmer.stem(token))"
   ]
  },
  {
   "cell_type": "code",
   "execution_count": 28,
   "id": "6f98bd7b",
   "metadata": {},
   "outputs": [
    {
     "name": "stdout",
     "output_type": "stream",
     "text": [
      "['token', 'process', 'split', 'text', 'document', 'individu', 'word', 'token', '.', '\\\\\\\\nit', 'import', 'step', 'natur', 'languag', 'process', '.', '\\\\\\\\npo', 'tag', 'assign', 'grammat', 'inform', 'word', 'sentenc', '.', '\\\\\\\\nstop', 'word', 'commonli', 'use', 'word', 'often', 'remov', 'text', 'data', \"n't\", 'carri', 'signific', 'meaning.\\\\\\\\nstem', 'lemmat', 'techniqu', 'use', 'reduc', 'word', 'base', 'root', 'form', '.']\n"
     ]
    }
   ],
   "source": [
    "print(stemmed_tokens)"
   ]
  },
  {
   "cell_type": "code",
   "execution_count": 29,
   "id": "223385ac",
   "metadata": {},
   "outputs": [],
   "source": [
    "lemma=WordNetLemmatizer()\n",
    "l_tokens=[]\n",
    "for token in filtered_tokens:\n",
    "    l_tokens.append(lemma.lemmatize(token))"
   ]
  },
  {
   "cell_type": "code",
   "execution_count": 31,
   "id": "0ac5019d",
   "metadata": {},
   "outputs": [
    {
     "name": "stdout",
     "output_type": "stream",
     "text": [
      "['Tokenization', 'process', 'splitting', 'text', 'document', 'individual', 'word', 'token', '.', '\\\\\\\\nIt', 'important', 'step', 'natural', 'language', 'processing', '.', '\\\\\\\\nPOS', 'tagging', 'assigns', 'grammatical', 'information', 'word', 'sentence', '.', '\\\\\\\\nStop', 'word', 'commonly', 'used', 'word', 'often', 'removed', 'text', 'data', \"n't\", 'carry', 'significant', 'meaning.\\\\\\\\nStemming', 'lemmatization', 'technique', 'used', 'reduce', 'word', 'base', 'root', 'form', '.']\n"
     ]
    }
   ],
   "source": [
    "print(l_tokens)"
   ]
  },
  {
   "cell_type": "code",
   "execution_count": 33,
   "id": "f989e1ca",
   "metadata": {},
   "outputs": [],
   "source": [
    "from sklearn.feature_extraction.text import TfidfVectorizer"
   ]
  },
  {
   "cell_type": "code",
   "execution_count": 34,
   "id": "53cdd4ee",
   "metadata": {},
   "outputs": [],
   "source": [
    "vectorizer=TfidfVectorizer()"
   ]
  },
  {
   "cell_type": "code",
   "execution_count": 35,
   "id": "3479595d",
   "metadata": {},
   "outputs": [],
   "source": [
    "filtered_document=\" \".join(filtered_tokens)"
   ]
  },
  {
   "cell_type": "code",
   "execution_count": 36,
   "id": "8af9b768",
   "metadata": {},
   "outputs": [],
   "source": [
    "tfidf_matrix=vectorizer.fit_transform([filtered_document])"
   ]
  },
  {
   "cell_type": "code",
   "execution_count": 37,
   "id": "8883cac9",
   "metadata": {},
   "outputs": [
    {
     "name": "stdout",
     "output_type": "stream",
     "text": [
      "tfidf representation:\n",
      "[[0.13130643 0.13130643 0.13130643 0.13130643 0.13130643 0.13130643\n",
      "  0.13130643 0.13130643 0.13130643 0.13130643 0.13130643 0.13130643\n",
      "  0.13130643 0.13130643 0.13130643 0.13130643 0.13130643 0.13130643\n",
      "  0.13130643 0.13130643 0.13130643 0.13130643 0.13130643 0.13130643\n",
      "  0.13130643 0.13130643 0.13130643 0.13130643 0.13130643 0.13130643\n",
      "  0.13130643 0.26261287 0.13130643 0.13130643 0.26261287 0.13130643\n",
      "  0.52522573]]\n"
     ]
    }
   ],
   "source": [
    "print(\"tfidf representation:\")\n",
    "print(tfidf_matrix.toarray())"
   ]
  },
  {
   "cell_type": "code",
   "execution_count": 42,
   "id": "b7ecf07a",
   "metadata": {},
   "outputs": [
    {
     "name": "stdout",
     "output_type": "stream",
     "text": [
      "feature names:\n",
      "['assigns', 'base', 'carry', 'commonly', 'data', 'document', 'form', 'grammatical', 'important', 'individual', 'information', 'language', 'lemmatization', 'meaning', 'natural', 'nit', 'npos', 'nstemming', 'nstop', 'often', 'process', 'processing', 'reduce', 'removed', 'root', 'sentence', 'significant', 'splitting', 'step', 'tagging', 'techniques', 'text', 'tokenization', 'tokens', 'used', 'word', 'words']\n"
     ]
    }
   ],
   "source": [
    "print(\"feature names:\")\n",
    "print(vectorizer.get_feature_names())"
   ]
  },
  {
   "cell_type": "code",
   "execution_count": null,
   "id": "861effd5",
   "metadata": {},
   "outputs": [],
   "source": []
  }
 ],
 "metadata": {
  "kernelspec": {
   "display_name": "Python 3 (ipykernel)",
   "language": "python",
   "name": "python3"
  },
  "language_info": {
   "codemirror_mode": {
    "name": "ipython",
    "version": 3
   },
   "file_extension": ".py",
   "mimetype": "text/x-python",
   "name": "python",
   "nbconvert_exporter": "python",
   "pygments_lexer": "ipython3",
   "version": "3.9.7"
  }
 },
 "nbformat": 4,
 "nbformat_minor": 5
}
